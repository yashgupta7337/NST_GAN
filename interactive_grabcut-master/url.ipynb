{
 "cells": [
  {
   "cell_type": "code",
   "execution_count": 4,
   "metadata": {},
   "outputs": [
    {
     "name": "stdout",
     "output_type": "stream",
     "text": [
      " * Serving Flask app '__init__' (lazy loading)\n",
      " * Environment: production\n",
      "\u001b[31m   WARNING: This is a development server. Do not use it in a production deployment.\u001b[0m\n",
      "\u001b[2m   Use a production WSGI server instead.\u001b[0m\n",
      " * Debug mode: on\n",
      " * Running on http://127.0.0.1:5000 (Press CTRL+C to quit)\n",
      " * Restarting with stat\n",
      " * Debugger is active!\n",
      " * Debugger PIN: 145-568-293\n",
      " * Detected change in '/Users/yashgupta/Downloads/interactive_grabcut-master/open_url.py', reloading\n",
      " * Restarting with stat\n",
      " * Debugger is active!\n",
      " * Debugger PIN: 145-568-293\n",
      " * Detected change in '/Users/yashgupta/Downloads/interactive_grabcut-master/open_url.py', reloading\n",
      " * Restarting with stat\n",
      " * Debugger is active!\n",
      " * Debugger PIN: 145-568-293\n",
      " * Detected change in '/Users/yashgupta/Downloads/interactive_grabcut-master/open_url.py', reloading\n",
      " * Restarting with stat\n",
      " * Debugger is active!\n",
      " * Debugger PIN: 145-568-293\n",
      " * Detected change in '/Users/yashgupta/Downloads/interactive_grabcut-master/open_url.py', reloading\n",
      " * Restarting with stat\n",
      "^C\n",
      "Traceback (most recent call last):\n",
      "  File \"/Users/yashgupta/Downloads/interactive_grabcut-master/__init__.py\", line 66, in <module>\n",
      "    app.run(debug=True)\n",
      "  File \"/Users/yashgupta/.pyenv/versions/3.10.4/lib/python3.10/site-packages/flask/app.py\", line 920, in run\n",
      "    run_simple(t.cast(str, host), port, self, **options)\n",
      "  File \"/Users/yashgupta/.pyenv/versions/3.10.4/lib/python3.10/site-packages/werkzeug/serving.py\", line 1054, in run_simple\n",
      "    from .debug import DebuggedApplication\n",
      "  File \"/Users/yashgupta/.pyenv/versions/3.10.4/lib/python3.10/site-packages/werkzeug/debug/__init__.py\", line 24, in <module>\n",
      "    from .console import Console\n",
      "  File \"/Users/yashgupta/.pyenv/versions/3.10.4/lib/python3.10/site-packages/werkzeug/debug/console.py\", line 1, in <module>\n",
      "    import code\n",
      "  File \"/Users/yashgupta/.pyenv/versions/3.10.4/lib/python3.10/code.py\", line 10, in <module>\n",
      "    from codeop import CommandCompiler, compile_command\n",
      "  File \"<frozen importlib._bootstrap>\", line 1027, in _find_and_load\n",
      "  File \"<frozen importlib._bootstrap>\", line 1002, in _find_and_load_unlocked\n",
      "  File \"<frozen importlib._bootstrap>\", line 945, in _find_spec\n",
      "  File \"<frozen importlib._bootstrap_external>\", line 1439, in find_spec\n",
      "  File \"<frozen importlib._bootstrap_external>\", line 1411, in _get_spec\n",
      "  File \"<frozen importlib._bootstrap_external>\", line 1544, in find_spec\n",
      "  File \"<frozen importlib._bootstrap_external>\", line 147, in _path_stat\n",
      "KeyboardInterrupt\n"
     ]
    }
   ],
   "source": [
    "# %pip install flask\n",
    "\n",
    "! python __init__.py"
   ]
  },
  {
   "cell_type": "code",
   "execution_count": null,
   "metadata": {},
   "outputs": [
    {
     "ename": "SyntaxError",
     "evalue": "Missing parentheses in call to 'print'. Did you mean print(...)? (1429760312.py, line 8)",
     "output_type": "error",
     "traceback": [
      "\u001b[0;36m  Input \u001b[0;32mIn [3]\u001b[0;36m\u001b[0m\n\u001b[0;31m    print tempf.read()\u001b[0m\n\u001b[0m    ^\u001b[0m\n\u001b[0;31mSyntaxError\u001b[0m\u001b[0;31m:\u001b[0m Missing parentheses in call to 'print'. Did you mean print(...)?\n"
     ]
    }
   ],
   "source": [
    "\n"
   ]
  }
 ],
 "metadata": {
  "kernelspec": {
   "display_name": "Python 3.10.4 64-bit ('3.10.4')",
   "language": "python",
   "name": "python3"
  },
  "language_info": {
   "codemirror_mode": {
    "name": "ipython",
    "version": 3
   },
   "file_extension": ".py",
   "mimetype": "text/x-python",
   "name": "python",
   "nbconvert_exporter": "python",
   "pygments_lexer": "ipython3",
   "version": "3.10.4"
  },
  "orig_nbformat": 4,
  "vscode": {
   "interpreter": {
    "hash": "987b93d5d063e0158d549cc868070df6c262b322e7d8f794f1ce0b58c16215e9"
   }
  }
 },
 "nbformat": 4,
 "nbformat_minor": 2
}
