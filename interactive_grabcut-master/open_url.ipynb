{
 "cells": [
  {
   "cell_type": "code",
   "execution_count": 6,
   "metadata": {},
   "outputs": [
    {
     "name": "stderr",
     "output_type": "stream",
     "text": [
      " * Running on http://127.0.0.1:5000 (Press CTRL+C to quit)\n",
      " * Restarting with stat\n",
      " * Debugger is active!\n",
      " * Debugger PIN: 145-568-293\n",
      "127.0.0.1 - - [29/Jun/2022 15:03:22] \"GET / HTTP/1.1\" 200 -\n",
      "127.0.0.1 - - [29/Jun/2022 15:03:22] \"GET /static/js/grabcut_demo.js HTTP/1.1\" 304 -\n",
      "127.0.0.1 - - [29/Jun/2022 15:03:22] \"GET /static/js/grabcut.js HTTP/1.1\" 304 -\n",
      "127.0.0.1 - - [29/Jun/2022 15:03:23] \"GET /static/images/burger/_original/burger.jpg HTTP/1.1\" 200 -\n",
      "127.0.0.1 - - [29/Jun/2022 15:03:23] \"GET /favicon.ico HTTP/1.1\" 404 -\n",
      "127.0.0.1 - - [29/Jun/2022 15:03:30] \"POST /do_grabcut HTTP/1.1\" 500 -\n",
      "Traceback (most recent call last):\n",
      "  File \"/Users/yashgupta/.pyenv/versions/3.10.4/lib/python3.10/site-packages/flask/app.py\", line 2095, in __call__\n",
      "    return self.wsgi_app(environ, start_response)\n",
      "  File \"/Users/yashgupta/.pyenv/versions/3.10.4/lib/python3.10/site-packages/flask/app.py\", line 2080, in wsgi_app\n",
      "    response = self.handle_exception(e)\n",
      "  File \"/Users/yashgupta/.pyenv/versions/3.10.4/lib/python3.10/site-packages/flask/app.py\", line 2077, in wsgi_app\n",
      "    response = self.full_dispatch_request()\n",
      "  File \"/Users/yashgupta/.pyenv/versions/3.10.4/lib/python3.10/site-packages/flask/app.py\", line 1525, in full_dispatch_request\n",
      "    rv = self.handle_user_exception(e)\n",
      "  File \"/Users/yashgupta/.pyenv/versions/3.10.4/lib/python3.10/site-packages/flask/app.py\", line 1523, in full_dispatch_request\n",
      "    rv = self.dispatch_request()\n",
      "  File \"/Users/yashgupta/.pyenv/versions/3.10.4/lib/python3.10/site-packages/flask/app.py\", line 1509, in dispatch_request\n",
      "    return self.ensure_sync(self.view_functions[rule.endpoint])(**req.view_args)\n",
      "  File \"/Users/yashgupta/Downloads/interactive_grabcut-master/__init__.py\", line 26, in do_grabcut\n",
      "    new_file = grabcut_rect(abs_path + 'static/images/'+img_file, rect_coords_scaled, project_name, row_id)\n",
      "  File \"/Users/yashgupta/Downloads/interactive_grabcut-master/grabcut.py\", line 32, in grabcut_rect\n",
      "    mask, bgdModel, fgdModel = cv2.grabCut(\n",
      "cv2.error: OpenCV(4.6.0) /Users/xperience/actions-runner/_work/opencv-python/opencv-python/opencv/modules/imgproc/src/grabcut.cpp:557: error: (-5:Bad argument) image must have CV_8UC3 type in function 'grabCut'\n",
      "\n",
      "127.0.0.1 - - [29/Jun/2022 15:04:03] \"GET / HTTP/1.1\" 200 -\n",
      "127.0.0.1 - - [29/Jun/2022 15:04:03] \"GET /static/js/grabcut.js HTTP/1.1\" 200 -\n",
      "127.0.0.1 - - [29/Jun/2022 15:04:03] \"GET /static/js/grabcut_demo.js HTTP/1.1\" 200 -\n",
      "127.0.0.1 - - [29/Jun/2022 15:04:03] \"GET /static/images/burger/_original/burger.jpg HTTP/1.1\" 304 -\n",
      "127.0.0.1 - - [29/Jun/2022 15:04:03] \"GET /favicon.ico HTTP/1.1\" 404 -\n",
      "127.0.0.1 - - [29/Jun/2022 15:04:08] \"POST /do_grabcut HTTP/1.1\" 500 -\n",
      "Traceback (most recent call last):\n",
      "  File \"/Users/yashgupta/.pyenv/versions/3.10.4/lib/python3.10/site-packages/flask/app.py\", line 2095, in __call__\n",
      "    return self.wsgi_app(environ, start_response)\n",
      "  File \"/Users/yashgupta/.pyenv/versions/3.10.4/lib/python3.10/site-packages/flask/app.py\", line 2080, in wsgi_app\n",
      "    response = self.handle_exception(e)\n",
      "  File \"/Users/yashgupta/.pyenv/versions/3.10.4/lib/python3.10/site-packages/flask/app.py\", line 2077, in wsgi_app\n",
      "    response = self.full_dispatch_request()\n",
      "  File \"/Users/yashgupta/.pyenv/versions/3.10.4/lib/python3.10/site-packages/flask/app.py\", line 1525, in full_dispatch_request\n",
      "    rv = self.handle_user_exception(e)\n",
      "  File \"/Users/yashgupta/.pyenv/versions/3.10.4/lib/python3.10/site-packages/flask/app.py\", line 1523, in full_dispatch_request\n",
      "    rv = self.dispatch_request()\n",
      "  File \"/Users/yashgupta/.pyenv/versions/3.10.4/lib/python3.10/site-packages/flask/app.py\", line 1509, in dispatch_request\n",
      "    return self.ensure_sync(self.view_functions[rule.endpoint])(**req.view_args)\n",
      "  File \"/Users/yashgupta/Downloads/interactive_grabcut-master/__init__.py\", line 26, in do_grabcut\n",
      "    new_file = grabcut_rect(abs_path + 'static/images/'+img_file, rect_coords_scaled, project_name, row_id)\n",
      "  File \"/Users/yashgupta/Downloads/interactive_grabcut-master/grabcut.py\", line 32, in grabcut_rect\n",
      "    mask, bgdModel, fgdModel = cv2.grabCut(\n",
      "cv2.error: OpenCV(4.6.0) /Users/xperience/actions-runner/_work/opencv-python/opencv-python/opencv/modules/imgproc/src/grabcut.cpp:557: error: (-5:Bad argument) image must have CV_8UC3 type in function 'grabCut'\n",
      "\n"
     ]
    }
   ],
   "source": [
    "import subprocess\n",
    "import tempfile\n",
    "\n",
    "s = []\n",
    "with tempfile.TemporaryFile() as tempf:\n",
    "    proc = subprocess.Popen(['python', '__init__.py'], stdout=tempf)\n",
    "    proc.wait()\n",
    "    tempf.seek(0)\n",
    "    s.append(tempf.read())\n",
    "print(s)"
   ]
  }
 ],
 "metadata": {
  "kernelspec": {
   "display_name": "Python 3.10.4 64-bit ('3.10.4')",
   "language": "python",
   "name": "python3"
  },
  "language_info": {
   "codemirror_mode": {
    "name": "ipython",
    "version": 3
   },
   "file_extension": ".py",
   "mimetype": "text/x-python",
   "name": "python",
   "nbconvert_exporter": "python",
   "pygments_lexer": "ipython3",
   "version": "3.10.4"
  },
  "orig_nbformat": 4,
  "vscode": {
   "interpreter": {
    "hash": "987b93d5d063e0158d549cc868070df6c262b322e7d8f794f1ce0b58c16215e9"
   }
  }
 },
 "nbformat": 4,
 "nbformat_minor": 2
}
